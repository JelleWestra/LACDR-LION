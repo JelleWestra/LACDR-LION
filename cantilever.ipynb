{
 "cells": [
  {
   "cell_type": "code",
   "execution_count": 1,
   "metadata": {},
   "outputs": [],
   "source": [
    "import numpy as np\n",
    "import matplotlib.pyplot as plt\n",
    "import pandas as pd\n",
    "\n",
    "from scipy.integrate import trapz\n",
    "from scipy.interpolate import RegularGridInterpolator\n",
    "\n",
    "from IPython.core.display import HTML\n",
    "from tqdm.notebook import tqdm\n",
    "\n",
    "import warnings\n",
    "# suppress warnings\n",
    "warnings.filterwarnings(\"ignore\")"
   ]
  },
  {
   "cell_type": "code",
   "execution_count": 2,
   "metadata": {},
   "outputs": [],
   "source": [
    "plt.rcParams['mathtext.fontset'] = 'cm'\n",
    "plt.rcParams['mathtext.rm'] = 'serif'\n",
    "plt.rcParams['font.family'] = 'serif'\n",
    "plt.rcParams['font.size'] = 12.0"
   ]
  },
  {
   "cell_type": "markdown",
   "metadata": {},
   "source": [
    "# References\n",
    "- [1] : `2020` Large colloidal probes for atomic force microscopy: Fabrication and calibration issues. Chighizola, et al. ([link](https://doi.org/10.1002/jmr.2879))\n",
    "- [2] : `2013` Functionalized AFM probes for force spectroscopy: eigenmode shapes and stiffness calibration through thermal noise measurements. Lauerent, et al. ([link](https://doi.org/10.1088/0957-4484/24/22/225504))\n",
    "- [3] : `2006` Force measurements with the atomic force microscope: Technique, interpretation and applications. Butt, Cappella, Kappl ([link](https://doi.org/10.1016/j.surfrep.2005.08.003))\n",
    "- [4] : `1995` Calculation of thermal noise in atomic I force microscopy. Butt, Jaschke. ([link](https://doi.org/10.1088/0957-4484/6/1/001))"
   ]
  },
  {
   "cell_type": "markdown",
   "metadata": {},
   "source": [
    "# Introducing $\\tilde{m}$ and $\\tilde{r}$ [1]\n",
    "\n",
    "- $\\tilde{m}=m_s/m_c$ reduced mass, is the ratio of colloid mass to that of the cantilever.\n",
    "- $\\tilde{r}=r_g/L=\\sqrt{7/2}R_s/L$ reduced gyration radius.\n",
    "\n",
    "For $\\tilde{m}$ and $\\tilde{r}$ above 0, the basic cantilever calibration parameters such as the resonant frequency $\\nu_0$, the quality factor $Q$, the deflection sensitivity $S_z$, the spring\n",
    "constant $k$, depend on $\\tilde{m}$ and $\\tilde{r}$."
   ]
  },
  {
   "cell_type": "markdown",
   "metadata": {},
   "source": [
    "# Flexural eigenmodes of a clamped cantilever [2]\n",
    "\n",
    "Conditions:\n",
    "> We neglect in our analysis any offset along the cantilever axis and any coupling with torsion: precise gluing of the bead should make those effects negligible in a first approximation. In order to reach a simple analytical solution, we also neglect the actual triangular shape of the cantilever at its free end: we will consider that the lever has an effective length smaller than its total length to approximate the real geometry. This last approximation will prove to be reasonable to describe our measurements.\n",
    "\n",
    "Euler–Bernoulli beam with mass added to free end of cantilever.\n",
    "\n",
    "The equation of motion for the cantilever, once the variables in time and space are separated, can be written as\n",
    "\n",
    "$$\n",
    "\\frac{k}{3}\\frac{d^4z}{dx^4} = m_c\\omega^2z\n",
    "$$\n",
    "\n",
    "With $k$ the static stiffness of the cantilever, $m_c$ its mass, $Z(x,t)=z(x)\\exp{i\\omega t}$ the deflection, and $\\omega$ the angular frequency. This equation can be rewritten as\n",
    "\n",
    "$$\n",
    "z^{(4)}=\\alpha^4 z\n",
    "$$\n",
    "\n",
    "Where $^{(n)}$ is the spatial derivative of order $n$, $\\alpha$ is given by the dispersion relation:\n",
    "\n",
    "$$\n",
    "\\alpha^4 = \\frac{3m_c\\omega^2}{k}.\n",
    "$$\n",
    "\n",
    "The generic solution to this equation is\n",
    "\n",
    "$$\n",
    "z(x) = a\\cos{\\alpha x} + b \\sin{\\alpha x} - c\\cosh{\\alpha x} - d\\sinh{\\alpha x}.\n",
    "$$\n",
    "\n",
    "The boundary conditions $x=0$ correspond to a clamped end, implying $z(0)=0$ and $z^{(1)}(0) = 0$, hence $a=c$ and $b=d$. Defining $R=b/a$, the expression above can thus be written as\n",
    "\n",
    "$$\n",
    "z(x) = a(\\cos{\\alpha x} - \\cosh{\\alpha x} + R\\left[\\sin{\\alpha x} - \\sinh{\\alpha x}\\right]).\n",
    "$$\n",
    "\n",
    "For $x=1$, corresponding to the free end of the cantilever where the bead is glued, the conditions on the force and torque are linked to the inertia in translation and rotation of the bead [19]:\n",
    "\n",
    "$$\n",
    "z^{(3)}(1) = -\\alpha^4\\tilde{m}z(1);\\quad z^{(2)}(1) = \\alpha^4\\tilde{m}\\tilde{r}^2z^{(1)}(1)\n",
    "$$\n",
    "\n",
    "where $\\tilde{m}=m_b/m_c$ is the mass of the bead $m_b$ normalized to that of the cantilever $m_c$, and $\\tilde{r}=r_g/L$ is the gyration radius of the bead $r_g$ normalized to the cantilever length $L$. Expressing these boundary conditions with the expression found for $z$ leads to\n",
    "\n",
    "$$\n",
    "R = \\frac{\\sin\\alpha - \\sinh\\alpha + \\alpha \\tilde{m} (\\cos\\alpha - \\cosh\\alpha)}{\\cos\\alpha + \\cosh\\alpha - \\alpha \\tilde{m}(\\sin\\alpha - \\sinh\\alpha)} = -\\frac{\\cos\\alpha + \\cosh\\alpha - \\alpha^3\\tilde{m}\\tilde{r}^2(\\sin\\alpha + \\sinh\\alpha)}{\\sin\\alpha + \\sinh\\alpha + \\alpha^3\\tilde{m}\\tilde{r}^2(\\cos\\alpha - \\cosh\\alpha)}\n",
    "$$\n",
    "\n",
    "The values of α allowing this equality are quantified, and correspond to the spatial eigenvalues $\\alpha_n(\\tilde{m}, \\tilde{r})$ of the resonant modes of the cantilever.\n",
    "\n",
    "Calculating literature eigenmodes for \"classic\" cantilever without mass (tipless cantilever)\n",
    "\n",
    "Values for $\\alpha_i$ from [3]:\n",
    "- $\\alpha_1 = 1.875$\n",
    "- $\\alpha_2 = 4.694$\n",
    "- $\\alpha_3 = 7.855$\n",
    "- $\\alpha_4 = 10.996$\n",
    "- $\\alpha_5 = 14.137$"
   ]
  },
  {
   "cell_type": "markdown",
   "metadata": {},
   "source": [
    "# Eigenvalue solver\n",
    "To solve eigenvalues $\\alpha$, we can use the equality for $R$. Let's first plot the left side minus the right side in the equation for $R$ "
   ]
  },
  {
   "cell_type": "code",
   "execution_count": 3,
   "metadata": {},
   "outputs": [
    {
     "data": {
      "image/png": "[encoded data removed]",
      "text/plain": [
       "<Figure size 432x288 with 2 Axes>"
      ]
     },
     "metadata": {
      "needs_background": "light"
     },
     "output_type": "display_data"
    }
   ],
   "source": [
    "def R(x, m, r):\n",
    "    ''' R equality '''\n",
    "    # left side A/B\n",
    "    A = np.sin(x) - np.sinh(x) + x*m*(np.cos(x) - np.cosh(x))\n",
    "    B = np.cos(x) + np.cosh(x) - x*m*(np.sin(x) - np.sinh(x))\n",
    "    \n",
    "    # right side -C/D\n",
    "    C = np.cos(x) + np.cosh(x) - x**3 * m * r**2 * (np.sin(x) + np.sinh(x))\n",
    "    D = np.sin(x) + np.sinh(x) + x**3 * m * r**2 * (np.cos(x) - np.cosh(x))\n",
    "    \n",
    "    return A/B + C/D\n",
    "\n",
    "x = np.linspace(0.01, 10, 1000)\n",
    "y0 = R(x, 0, 0)\n",
    "y1 = R(x, .5, .1)\n",
    "\n",
    "α0 = [1.875, 4.694, 7.855]\n",
    "\n",
    "fig, ax = plt.subplots(2, 1, sharex=True, sharey=True)\n",
    "\n",
    "ax[0].plot(x, y0)\n",
    "ax[0].axhline(0, linestyle='--', alpha=.2)\n",
    "ax[0].set_title(r'($\\tilde{m},\\tilde{r}) = (0,0)$')\n",
    "for αi in α0:\n",
    "    ax[0].axvline(αi, color='r', alpha=.2)\n",
    "    ax[0].text(αi+0.1, 0.09, f'{αi}', va='top')\n",
    "\n",
    "ax[1].plot(x, y1)\n",
    "ax[1].axhline(0, linestyle='--', alpha=.2)\n",
    "ax[1].set_title(r'($\\tilde{m},\\tilde{r}) = (0.5,0.1)$')\n",
    "\n",
    "ax[0].set_ylim(-1e-1, 1e-1)\n",
    "\n",
    "fig.tight_layout()"
   ]
  },
  {
   "cell_type": "markdown",
   "metadata": {},
   "source": [
    "We can see how intercepts with the x-axis are solutions for $\\alpha$. In case of increased $\\tilde{m}$-$\\tilde{r}$, an asymtote is introduced. \n",
    "\n",
    "To find the roots, we calculate `N` points along the curve in the interval `[a,b]`. Upon walking along the curve, intersection with the `x`-axis is detected by a change of sign in $y$. Having detected a crossing of the $x$-axis, the domain is bisected using a bisection algorithm to find the root with greater accuracy. This bisection algorithm is stopped once a certain margain of error is attained (`eps`)."
   ]
  },
  {
   "cell_type": "code",
   "execution_count": 4,
   "metadata": {},
   "outputs": [
    {
     "name": "stdout",
     "output_type": "stream",
     "text": [
      "[1.875 4.694 7.855]\n"
     ]
    }
   ],
   "source": [
    "from utils import *\n",
    "\n",
    "def eigenmodes(m, r, a=0.01, b=10, N=1000, n=3, eps=1e-6, max_iter=100):\n",
    "    ''' Solving eigenmodes α using equality R\n",
    "    \n",
    "    Args:\n",
    "        m (float) : reduced mass.\n",
    "        r (float) : reduced gyration radius.\n",
    "        a (float) : start of interval.\n",
    "        b (float) : end of interval.\n",
    "        N (int) : no. points on curve.\n",
    "        n (int) : no. eigenvalues to be found in interval [a,b].\n",
    "        eps (float) : cutoff margin of error for finding root in bisection method.\n",
    "        max_iter (int) : max no. miterations in bisection method.\n",
    "    Returns:\n",
    "        α (array) : eigenvalues found (n,1).\n",
    "    Warns:\n",
    "        ConvergenceWarning: If can't converge within error margin `eps` for maximum number of iterations `max_iter`. \n",
    "    \n",
    "    '''\n",
    "    def R(x):\n",
    "        # equality $R$\n",
    "        nonlocal m, r\n",
    "        A = np.sin(x) - np.sinh(x) + x*m*(np.cos(x) - np.cosh(x))\n",
    "        B = np.cos(x) + np.cosh(x) - x*m*(np.sin(x) - np.sinh(x))\n",
    "\n",
    "        C = np.cos(x) + np.cosh(x) - x**3 * m * r**2 * (np.sin(x) + np.sinh(x))\n",
    "        D = np.sin(x) + np.sinh(x) + x**3 * m * r**2 * (np.cos(x) - np.cosh(x))\n",
    "                \n",
    "        return A/B + C/D\n",
    "    \n",
    "    # walking along R with steps of `dx`\n",
    "    dx = (b - a)/N\n",
    "    # starting from position `a`\n",
    "    x = a\n",
    "       \n",
    "    # initializing `α` array for found eigenvalues\n",
    "    i = 0\n",
    "    α = np.asarray([float('nan')] * n)\n",
    "        \n",
    "    # start waling along the curve\n",
    "    for _ in range(N):\n",
    "        # if we cross a sign change between `x` and `x+dx`, we might find a root\n",
    "        if R(x)*R(x + dx) < 0:\n",
    "            # use bisection algorithm to estimate root on interval [`x`,`x+dx`]\n",
    "            ai, bi = x, x+dx\n",
    "        \n",
    "            for _ in range(max_iter):\n",
    "                # interval midpoint `m`\n",
    "                mi = (ai + bi)/2\n",
    "\n",
    "                # if root found within error margin `eps` return `m`\n",
    "                if abs(R(mi)) < eps:\n",
    "                    α[i] = mi\n",
    "                    break\n",
    "                # else update interval\n",
    "                else:\n",
    "                    # root between `a` and `m` (checking by sign change)\n",
    "                    if R(ai)*R(mi) < 0:\n",
    "                        bi = mi\n",
    "                    # otherwise root is between `m` and `b`\n",
    "                    else:\n",
    "                        ai = mi\n",
    "            \n",
    "            # catch asymtote\n",
    "            if -R(ai)*R(bi) > 1:\n",
    "                asym = mi\n",
    "                i -= 1\n",
    "            # solution not found in maximum iterations\n",
    "            elif np.isnan(α[i]):\n",
    "                convergencewarning(eps, max_iter, mi, R)\n",
    "                α[i] = mi\n",
    "            \n",
    "            # find next eigenvalue\n",
    "            i += 1\n",
    "        \n",
    "        if i == n:\n",
    "            return α\n",
    "        \n",
    "        x += dx\n",
    "        \n",
    "\n",
    "α = eigenmodes(0,0, eps=1e-6, max_iter=100)\n",
    "\n",
    "print(eigenmodes(m=0, r=0).round(3))"
   ]
  },
  {
   "cell_type": "markdown",
   "metadata": {},
   "source": [
    "Values found correspond to literature values for $(\\tilde{m},\\tilde{r})=(0,0)$.\n",
    "\n",
    "Calculating first three modes for different $\\tilde{m}$"
   ]
  },
  {
   "cell_type": "code",
   "execution_count": 5,
   "metadata": {},
   "outputs": [],
   "source": [
    "def z_i(x, m, r, a_i):\n",
    "    A = np.sin(a_i) - np.sinh(a_i) + a_i*m*(np.cos(a_i) - np.cosh(a_i))\n",
    "    B = np.cos(a_i) + np.cosh(a_i) - a_i*m*(np.sin(a_i) - np.sinh(a_i))\n",
    "\n",
    "    R = A/B\n",
    "\n",
    "    z = np.cos(a_i*x) - np.cosh(a_i*x) + R*(np.sin(a_i*x) - np.sinh(a_i*x))\n",
    "    \n",
    "    return z"
   ]
  },
  {
   "cell_type": "code",
   "execution_count": 6,
   "metadata": {},
   "outputs": [
    {
     "data": {
      "image/png": "[encoded data removed]",
      "text/plain": [
       "<Figure size 432x720 with 3 Axes>"
      ]
     },
     "metadata": {
      "needs_background": "light"
     },
     "output_type": "display_data"
    }
   ],
   "source": [
    "M = [0,0.1,0.3,1] # masses\n",
    "A = np.asarray([eigenmodes(M[i], 0) for i in range(len(M))])\n",
    "\n",
    "x = np.linspace(0, 1, 100)\n",
    "\n",
    "fig, ax = plt.subplots(A.shape[1], 1, figsize=(6,10), sharex=True)\n",
    "\n",
    "for j in range(A.shape[1]):\n",
    "    ax[j].axhline(0, linestyle='--', alpha=.2)\n",
    "    \n",
    "    for i in range(len(M)):\n",
    "        ax[j].plot(x, z_i(x, M[i], 0, A[i,j]), label=r'$\\tilde{m}=' + f'{M[i]:.2f}$')\n",
    "    \n",
    "    ax[j].set_ylim(-2,2)\n",
    "    ax[j].set_xlim(0,1)\n",
    "    \n",
    "    ax[j].set_ylabel(fr'$\\phi_{j+1}(x)$', fontsize=18)\n",
    "        \n",
    "ax[0].legend(loc='upper center', bbox_to_anchor=(0.5, 1.75), ncol=2, frameon=False, fontsize=18)\n",
    "\n",
    "ax[-1].set_xlabel('$x$', fontsize=18)\n",
    "\n",
    "fig.tight_layout()"
   ]
  },
  {
   "cell_type": "markdown",
   "metadata": {},
   "source": [
    "Curves correspond to cuvres in Fig. 2 [2]. A problem for the numerical calculation of $\\alpha$ arises for $\\tilde{r}>0$ in modes above 1 using this algorithm due to presence of asymtotes.\n",
    "\n",
    "Tabulated values for the first mode ($0\\leq\\tilde{m}\\leq 2$; $0\\leq\\tilde{r}\\leq{0.1}$) found in the online supplementary of paper [2] all correspond to values found using this algorithm ([Supplementary data](https://iopscience.iop.org/article/10.1088/0957-4484/24/22/225504/data))."
   ]
  },
  {
   "cell_type": "code",
   "execution_count": 7,
   "metadata": {},
   "outputs": [
    {
     "data": {
      "text/html": [
       "<div>\n",
       "<style scoped>\n",
       "    .dataframe tbody tr th:only-of-type {\n",
       "        vertical-align: middle;\n",
       "    }\n",
       "\n",
       "    .dataframe tbody tr th {\n",
       "        vertical-align: top;\n",
       "    }\n",
       "\n",
       "    .dataframe thead th {\n",
       "        text-align: right;\n",
       "    }\n",
       "</style>\n",
       "<table border=\"1\" class=\"dataframe\">\n",
       "  <thead>\n",
       "    <tr style=\"text-align: right;\">\n",
       "      <th></th>\n",
       "      <th>0.00</th>\n",
       "      <th>0.01</th>\n",
       "      <th>0.02</th>\n",
       "      <th>0.03</th>\n",
       "      <th>0.04</th>\n",
       "      <th>0.05</th>\n",
       "      <th>0.06</th>\n",
       "      <th>0.07</th>\n",
       "      <th>0.08</th>\n",
       "      <th>0.09</th>\n",
       "      <th>0.10</th>\n",
       "    </tr>\n",
       "  </thead>\n",
       "  <tbody>\n",
       "    <tr>\n",
       "      <th>0.0</th>\n",
       "      <td>1.8751</td>\n",
       "      <td>1.8751</td>\n",
       "      <td>1.8751</td>\n",
       "      <td>1.8751</td>\n",
       "      <td>1.8751</td>\n",
       "      <td>1.8751</td>\n",
       "      <td>1.8751</td>\n",
       "      <td>1.8751</td>\n",
       "      <td>1.8751</td>\n",
       "      <td>1.8751</td>\n",
       "      <td>1.8751</td>\n",
       "    </tr>\n",
       "    <tr>\n",
       "      <th>0.1</th>\n",
       "      <td>1.7227</td>\n",
       "      <td>1.7227</td>\n",
       "      <td>1.7226</td>\n",
       "      <td>1.7225</td>\n",
       "      <td>1.7223</td>\n",
       "      <td>1.7221</td>\n",
       "      <td>1.7218</td>\n",
       "      <td>1.7215</td>\n",
       "      <td>1.7212</td>\n",
       "      <td>1.7207</td>\n",
       "      <td>1.7203</td>\n",
       "    </tr>\n",
       "    <tr>\n",
       "      <th>0.2</th>\n",
       "      <td>1.6164</td>\n",
       "      <td>1.6164</td>\n",
       "      <td>1.6163</td>\n",
       "      <td>1.6161</td>\n",
       "      <td>1.6158</td>\n",
       "      <td>1.6155</td>\n",
       "      <td>1.6151</td>\n",
       "      <td>1.6146</td>\n",
       "      <td>1.6140</td>\n",
       "      <td>1.6134</td>\n",
       "      <td>1.6127</td>\n",
       "    </tr>\n",
       "    <tr>\n",
       "      <th>0.3</th>\n",
       "      <td>1.5361</td>\n",
       "      <td>1.5361</td>\n",
       "      <td>1.5360</td>\n",
       "      <td>1.5357</td>\n",
       "      <td>1.5354</td>\n",
       "      <td>1.5350</td>\n",
       "      <td>1.5345</td>\n",
       "      <td>1.5340</td>\n",
       "      <td>1.5333</td>\n",
       "      <td>1.5325</td>\n",
       "      <td>1.5317</td>\n",
       "    </tr>\n",
       "    <tr>\n",
       "      <th>0.4</th>\n",
       "      <td>1.4724</td>\n",
       "      <td>1.4724</td>\n",
       "      <td>1.4722</td>\n",
       "      <td>1.4720</td>\n",
       "      <td>1.4716</td>\n",
       "      <td>1.4712</td>\n",
       "      <td>1.4707</td>\n",
       "      <td>1.4700</td>\n",
       "      <td>1.4693</td>\n",
       "      <td>1.4685</td>\n",
       "      <td>1.4676</td>\n",
       "    </tr>\n",
       "    <tr>\n",
       "      <th>0.5</th>\n",
       "      <td>1.4200</td>\n",
       "      <td>1.4199</td>\n",
       "      <td>1.4198</td>\n",
       "      <td>1.4195</td>\n",
       "      <td>1.4191</td>\n",
       "      <td>1.4187</td>\n",
       "      <td>1.4181</td>\n",
       "      <td>1.4175</td>\n",
       "      <td>1.4167</td>\n",
       "      <td>1.4158</td>\n",
       "      <td>1.4149</td>\n",
       "    </tr>\n",
       "    <tr>\n",
       "      <th>0.6</th>\n",
       "      <td>1.3757</td>\n",
       "      <td>1.3756</td>\n",
       "      <td>1.3755</td>\n",
       "      <td>1.3752</td>\n",
       "      <td>1.3748</td>\n",
       "      <td>1.3744</td>\n",
       "      <td>1.3738</td>\n",
       "      <td>1.3731</td>\n",
       "      <td>1.3723</td>\n",
       "      <td>1.3714</td>\n",
       "      <td>1.3704</td>\n",
       "    </tr>\n",
       "    <tr>\n",
       "      <th>0.7</th>\n",
       "      <td>1.3375</td>\n",
       "      <td>1.3374</td>\n",
       "      <td>1.3373</td>\n",
       "      <td>1.3370</td>\n",
       "      <td>1.3366</td>\n",
       "      <td>1.3362</td>\n",
       "      <td>1.3356</td>\n",
       "      <td>1.3349</td>\n",
       "      <td>1.3341</td>\n",
       "      <td>1.3332</td>\n",
       "      <td>1.3321</td>\n",
       "    </tr>\n",
       "    <tr>\n",
       "      <th>0.8</th>\n",
       "      <td>1.3041</td>\n",
       "      <td>1.3040</td>\n",
       "      <td>1.3039</td>\n",
       "      <td>1.3036</td>\n",
       "      <td>1.3032</td>\n",
       "      <td>1.3027</td>\n",
       "      <td>1.3021</td>\n",
       "      <td>1.3014</td>\n",
       "      <td>1.3006</td>\n",
       "      <td>1.2997</td>\n",
       "      <td>1.2987</td>\n",
       "    </tr>\n",
       "    <tr>\n",
       "      <th>0.9</th>\n",
       "      <td>1.2745</td>\n",
       "      <td>1.2744</td>\n",
       "      <td>1.2742</td>\n",
       "      <td>1.2740</td>\n",
       "      <td>1.2736</td>\n",
       "      <td>1.2731</td>\n",
       "      <td>1.2725</td>\n",
       "      <td>1.2718</td>\n",
       "      <td>1.2710</td>\n",
       "      <td>1.2700</td>\n",
       "      <td>1.2690</td>\n",
       "    </tr>\n",
       "    <tr>\n",
       "      <th>1.0</th>\n",
       "      <td>1.2479</td>\n",
       "      <td>1.2479</td>\n",
       "      <td>1.2477</td>\n",
       "      <td>1.2474</td>\n",
       "      <td>1.2470</td>\n",
       "      <td>1.2465</td>\n",
       "      <td>1.2459</td>\n",
       "      <td>1.2452</td>\n",
       "      <td>1.2444</td>\n",
       "      <td>1.2435</td>\n",
       "      <td>1.2424</td>\n",
       "    </tr>\n",
       "    <tr>\n",
       "      <th>1.1</th>\n",
       "      <td>1.2239</td>\n",
       "      <td>1.2239</td>\n",
       "      <td>1.2237</td>\n",
       "      <td>1.2234</td>\n",
       "      <td>1.2230</td>\n",
       "      <td>1.2225</td>\n",
       "      <td>1.2219</td>\n",
       "      <td>1.2212</td>\n",
       "      <td>1.2204</td>\n",
       "      <td>1.2195</td>\n",
       "      <td>1.2184</td>\n",
       "    </tr>\n",
       "    <tr>\n",
       "      <th>1.2</th>\n",
       "      <td>1.2021</td>\n",
       "      <td>1.2020</td>\n",
       "      <td>1.2018</td>\n",
       "      <td>1.2016</td>\n",
       "      <td>1.2012</td>\n",
       "      <td>1.2007</td>\n",
       "      <td>1.2001</td>\n",
       "      <td>1.1994</td>\n",
       "      <td>1.1986</td>\n",
       "      <td>1.1976</td>\n",
       "      <td>1.1966</td>\n",
       "    </tr>\n",
       "    <tr>\n",
       "      <th>1.3</th>\n",
       "      <td>1.1820</td>\n",
       "      <td>1.1820</td>\n",
       "      <td>1.1818</td>\n",
       "      <td>1.1815</td>\n",
       "      <td>1.1812</td>\n",
       "      <td>1.1807</td>\n",
       "      <td>1.1801</td>\n",
       "      <td>1.1794</td>\n",
       "      <td>1.1785</td>\n",
       "      <td>1.1776</td>\n",
       "      <td>1.1766</td>\n",
       "    </tr>\n",
       "    <tr>\n",
       "      <th>1.4</th>\n",
       "      <td>1.1636</td>\n",
       "      <td>1.1635</td>\n",
       "      <td>1.1633</td>\n",
       "      <td>1.1631</td>\n",
       "      <td>1.1627</td>\n",
       "      <td>1.1622</td>\n",
       "      <td>1.1616</td>\n",
       "      <td>1.1609</td>\n",
       "      <td>1.1601</td>\n",
       "      <td>1.1591</td>\n",
       "      <td>1.1581</td>\n",
       "    </tr>\n",
       "    <tr>\n",
       "      <th>1.5</th>\n",
       "      <td>1.1464</td>\n",
       "      <td>1.1464</td>\n",
       "      <td>1.1462</td>\n",
       "      <td>1.1460</td>\n",
       "      <td>1.1456</td>\n",
       "      <td>1.1451</td>\n",
       "      <td>1.1445</td>\n",
       "      <td>1.1438</td>\n",
       "      <td>1.1430</td>\n",
       "      <td>1.1421</td>\n",
       "      <td>1.1410</td>\n",
       "    </tr>\n",
       "    <tr>\n",
       "      <th>1.6</th>\n",
       "      <td>1.1305</td>\n",
       "      <td>1.1305</td>\n",
       "      <td>1.1303</td>\n",
       "      <td>1.1300</td>\n",
       "      <td>1.1297</td>\n",
       "      <td>1.1292</td>\n",
       "      <td>1.1286</td>\n",
       "      <td>1.1279</td>\n",
       "      <td>1.1271</td>\n",
       "      <td>1.1261</td>\n",
       "      <td>1.1251</td>\n",
       "    </tr>\n",
       "    <tr>\n",
       "      <th>1.7</th>\n",
       "      <td>1.1156</td>\n",
       "      <td>1.1156</td>\n",
       "      <td>1.1154</td>\n",
       "      <td>1.1152</td>\n",
       "      <td>1.1148</td>\n",
       "      <td>1.1143</td>\n",
       "      <td>1.1137</td>\n",
       "      <td>1.1130</td>\n",
       "      <td>1.1122</td>\n",
       "      <td>1.1113</td>\n",
       "      <td>1.1103</td>\n",
       "    </tr>\n",
       "    <tr>\n",
       "      <th>1.8</th>\n",
       "      <td>1.1017</td>\n",
       "      <td>1.1016</td>\n",
       "      <td>1.1015</td>\n",
       "      <td>1.1012</td>\n",
       "      <td>1.1008</td>\n",
       "      <td>1.1003</td>\n",
       "      <td>1.0998</td>\n",
       "      <td>1.0991</td>\n",
       "      <td>1.0983</td>\n",
       "      <td>1.0974</td>\n",
       "      <td>1.0963</td>\n",
       "    </tr>\n",
       "    <tr>\n",
       "      <th>1.9</th>\n",
       "      <td>1.0886</td>\n",
       "      <td>1.0885</td>\n",
       "      <td>1.0884</td>\n",
       "      <td>1.0881</td>\n",
       "      <td>1.0877</td>\n",
       "      <td>1.0872</td>\n",
       "      <td>1.0866</td>\n",
       "      <td>1.0860</td>\n",
       "      <td>1.0852</td>\n",
       "      <td>1.0843</td>\n",
       "      <td>1.0833</td>\n",
       "    </tr>\n",
       "    <tr>\n",
       "      <th>2.0</th>\n",
       "      <td>1.0762</td>\n",
       "      <td>1.0761</td>\n",
       "      <td>1.0760</td>\n",
       "      <td>1.0757</td>\n",
       "      <td>1.0753</td>\n",
       "      <td>1.0749</td>\n",
       "      <td>1.0743</td>\n",
       "      <td>1.0736</td>\n",
       "      <td>1.0728</td>\n",
       "      <td>1.0719</td>\n",
       "      <td>1.0709</td>\n",
       "    </tr>\n",
       "  </tbody>\n",
       "</table>\n",
       "</div>"
      ],
      "text/plain": [
       "       0.00    0.01    0.02    0.03    0.04    0.05    0.06    0.07    0.08  \\\n",
       "0.0  1.8751  1.8751  1.8751  1.8751  1.8751  1.8751  1.8751  1.8751  1.8751   \n",
       "0.1  1.7227  1.7227  1.7226  1.7225  1.7223  1.7221  1.7218  1.7215  1.7212   \n",
       "0.2  1.6164  1.6164  1.6163  1.6161  1.6158  1.6155  1.6151  1.6146  1.6140   \n",
       "0.3  1.5361  1.5361  1.5360  1.5357  1.5354  1.5350  1.5345  1.5340  1.5333   \n",
       "0.4  1.4724  1.4724  1.4722  1.4720  1.4716  1.4712  1.4707  1.4700  1.4693   \n",
       "0.5  1.4200  1.4199  1.4198  1.4195  1.4191  1.4187  1.4181  1.4175  1.4167   \n",
       "0.6  1.3757  1.3756  1.3755  1.3752  1.3748  1.3744  1.3738  1.3731  1.3723   \n",
       "0.7  1.3375  1.3374  1.3373  1.3370  1.3366  1.3362  1.3356  1.3349  1.3341   \n",
       "0.8  1.3041  1.3040  1.3039  1.3036  1.3032  1.3027  1.3021  1.3014  1.3006   \n",
       "0.9  1.2745  1.2744  1.2742  1.2740  1.2736  1.2731  1.2725  1.2718  1.2710   \n",
       "1.0  1.2479  1.2479  1.2477  1.2474  1.2470  1.2465  1.2459  1.2452  1.2444   \n",
       "1.1  1.2239  1.2239  1.2237  1.2234  1.2230  1.2225  1.2219  1.2212  1.2204   \n",
       "1.2  1.2021  1.2020  1.2018  1.2016  1.2012  1.2007  1.2001  1.1994  1.1986   \n",
       "1.3  1.1820  1.1820  1.1818  1.1815  1.1812  1.1807  1.1801  1.1794  1.1785   \n",
       "1.4  1.1636  1.1635  1.1633  1.1631  1.1627  1.1622  1.1616  1.1609  1.1601   \n",
       "1.5  1.1464  1.1464  1.1462  1.1460  1.1456  1.1451  1.1445  1.1438  1.1430   \n",
       "1.6  1.1305  1.1305  1.1303  1.1300  1.1297  1.1292  1.1286  1.1279  1.1271   \n",
       "1.7  1.1156  1.1156  1.1154  1.1152  1.1148  1.1143  1.1137  1.1130  1.1122   \n",
       "1.8  1.1017  1.1016  1.1015  1.1012  1.1008  1.1003  1.0998  1.0991  1.0983   \n",
       "1.9  1.0886  1.0885  1.0884  1.0881  1.0877  1.0872  1.0866  1.0860  1.0852   \n",
       "2.0  1.0762  1.0761  1.0760  1.0757  1.0753  1.0749  1.0743  1.0736  1.0728   \n",
       "\n",
       "       0.09    0.10  \n",
       "0.0  1.8751  1.8751  \n",
       "0.1  1.7207  1.7203  \n",
       "0.2  1.6134  1.6127  \n",
       "0.3  1.5325  1.5317  \n",
       "0.4  1.4685  1.4676  \n",
       "0.5  1.4158  1.4149  \n",
       "0.6  1.3714  1.3704  \n",
       "0.7  1.3332  1.3321  \n",
       "0.8  1.2997  1.2987  \n",
       "0.9  1.2700  1.2690  \n",
       "1.0  1.2435  1.2424  \n",
       "1.1  1.2195  1.2184  \n",
       "1.2  1.1976  1.1966  \n",
       "1.3  1.1776  1.1766  \n",
       "1.4  1.1591  1.1581  \n",
       "1.5  1.1421  1.1410  \n",
       "1.6  1.1261  1.1251  \n",
       "1.7  1.1113  1.1103  \n",
       "1.8  1.0974  1.0963  \n",
       "1.9  1.0843  1.0833  \n",
       "2.0  1.0719  1.0709  "
      ]
     },
     "execution_count": 7,
     "metadata": {},
     "output_type": "execute_result"
    }
   ],
   "source": [
    "M = np.linspace(0, 2, 21)\n",
    "R = np.linspace(0, 0.1, 11)\n",
    "\n",
    "α = np.zeros((M.size, R.size))\n",
    "\n",
    "for i, m in enumerate(M):\n",
    "    for j, r in enumerate(R):\n",
    "        α[i,j] = eigenmodes(m, r, N=100)[0]\n",
    "        \n",
    "pd.DataFrame(α.round(4), index=M, columns=R)"
   ]
  },
  {
   "cell_type": "markdown",
   "metadata": {},
   "source": [
    "# Normalization of eigenmodes\n",
    "\n",
    "Before we can obtain $\\beta^*$ we first need to normalize $z_n(x)$; find $a_n$.\n",
    "\n",
    "Normalizing condition:\n",
    "\n",
    "$$\n",
    "\\int_0^1 \\left|\\phi_n(x)\\right|^2 dx = 1\n",
    "$$\n",
    "\n",
    "Defining\n",
    "\n",
    "$$\n",
    "z_n(x) = a_n\\zeta_n(x) = a_n(\\cos\\alpha_nx - \\cosh\\alpha_nx + R_n[\\sin\\alpha_nx - \\sinh\\alpha_nx])\n",
    "$$\n",
    "\n",
    "The paper presents the following eq. for normalization[2]:\n",
    "\n",
    "$$\n",
    "\\frac{1}{a_n^2} = \\int_0^1 \\zeta_n^2(x)dx + \\tilde{m}\\zeta_n^2(1) + \\tilde{m}\\tilde{r}^2\\zeta_n^{\\prime 2}(1)\n",
    "$$\n",
    "\n",
    "numerical normalization:"
   ]
  },
  {
   "cell_type": "code",
   "execution_count": 8,
   "metadata": {},
   "outputs": [],
   "source": [
    "# taking random m, r\n",
    "m = 1\n",
    "r = .1\n",
    "\n",
    "a1 = eigenmodes(m,r)[0]\n",
    "\n",
    "A = np.sin(a1) - np.sinh(a1) + a1*m*(np.cos(a1) - np.cosh(a1))\n",
    "B = np.cos(a1) + np.cosh(a1) - a1*m*(np.sin(a1) - np.sinh(a1))\n",
    "\n",
    "R = A/B"
   ]
  },
  {
   "cell_type": "code",
   "execution_count": 9,
   "metadata": {},
   "outputs": [
    {
     "data": {
      "text/html": [
       "$a_\\mathrm{1,numeric} = 0.8879$ for $\\tilde{m}=1.0$ and $\\tilde{r}=0.1$"
      ],
      "text/plain": [
       "<IPython.core.display.HTML object>"
      ]
     },
     "execution_count": 9,
     "metadata": {},
     "output_type": "execute_result"
    }
   ],
   "source": [
    "x = np.linspace(0,1,100)\n",
    "z = np.cos(a1*x) - np.cosh(a1*x) + R*(np.sin(a1*x) - np.sinh(a1*x))\n",
    "\n",
    "dzdx = a1*(-np.sin(a1)-np.sinh(a1)+R*(np.cos(a1)-np.cosh(a1)))\n",
    "# numerical\n",
    "A1_num = 1 / np.sqrt(trapz(z**2, x) + m*z[-1]**2 + m*r**2*dzdx**2)\n",
    "\n",
    "HTML(r'$a_\\mathrm{1,numeric} = %.4f$ for $\\tilde{m}=%.1f$ and $\\tilde{r}=%.1f$' %(A1_num, m, r))"
   ]
  },
  {
   "cell_type": "markdown",
   "metadata": {},
   "source": [
    "# Correction factor $\\beta^*$\n",
    "\n",
    "From Butt, Cappella, Kappl[3] definition $\\beta$ (measuring delfection)\n",
    "\n",
    "$$\n",
    "    \\beta = \\frac{12}{\\alpha_1^4};\\quad\\left<z_1\\right>^2 = \\beta \\frac{k_BT}{k}\n",
    "$$\n",
    "\n",
    "For measuring using inclination $\\beta^*$ is slightly different than $\\beta$. However, inclination is proportional to deflection by:\n",
    "\n",
    "$$\n",
    "\\beta^* = \\frac{3}{\\alpha_1^4} \\left( \\frac{z_d^\\prime(x)}{z_s^\\prime(x)} \\right)^2;\\quad\\left<z_1^*\\right>^2 = \\beta^* \\frac{k_BT}{k}\n",
    "$$\n",
    "\n",
    "Normalized static deflection\n",
    "\n",
    "$$\n",
    "z_s(x) = \\frac{1}{2} (x-2) x^2\\quad z_s^\\prime(x) = \\frac{x(3x - 6)}{2}\n",
    "$$\n",
    "\n",
    "Dynamic deflection as derived from before (mode 1)\n",
    "\n",
    "$$\n",
    "z_{d,1}(x) = a_1(\\cos\\alpha_1x - \\cosh\\alpha_1x + R_1\\left[\\sin\\alpha_1x - \\sinh\\alpha_1x\\right])\n",
    "$$\n",
    "\n",
    "Since $dR_n/dx = 0$ we can easily obtain its slope:\n",
    "\n",
    "$$\n",
    "z^\\prime_{d,1} = a_1\\alpha_1(-\\sin\\alpha_1x - \\sinh\\alpha_1x + R_1\\left[\\cos\\alpha_1x - \\cosh\\alpha_1x\\right])\n",
    "$$\n",
    "\n",
    "Finally calculating $\\beta^*$, for laser beam position on cantilever $x\\in[0,1]$\n",
    "\n",
    "$$\n",
    "\\beta^* = \\frac{3}{\\alpha_1^4} \\left( \\frac{z_d^\\prime(x)}{z_s^\\prime(x)} \\right)^2\n",
    "$$"
   ]
  },
  {
   "cell_type": "code",
   "execution_count": 10,
   "metadata": {},
   "outputs": [
    {
     "data": {
      "text/html": [
       "$\\beta^*=0.817$ for $\\tilde{m}=\\tilde{r}=0$ which satisfies the literature value for tipless cantilevers."
      ],
      "text/plain": [
       "<IPython.core.display.HTML object>"
      ]
     },
     "execution_count": 10,
     "metadata": {},
     "output_type": "execute_result"
    }
   ],
   "source": [
    "def beta(m, r, x=1):\n",
    "    α1 = eigenmodes(m, r, b=8, n=1)[0]\n",
    "    \n",
    "    A = np.sin(α1) - np.sinh(α1) + α1*m*(np.cos(α1) - np.cosh(α1))\n",
    "    B = np.cos(α1) + np.cosh(α1) - α1*m*(np.sin(α1) - np.sinh(α1))\n",
    "\n",
    "    R = A/B\n",
    "    R2 = R**2\n",
    "    \n",
    "    # normalization factor\n",
    "#     A1 = 1/np.sqrt(m*(np.cos(a1)-np.cosh(a1)+R*(np.sin(a1)-np.sinh(a1)))**2+m*r**2*a1**2*(-np.sin(a1)-np.sinh(a1)+R*(np.cos(a1)-np.cosh(a1)))**2-(np.exp(-2*a1)*((2*R2-2)*np.exp(2*a1)*np.sin(2*a1)+4*R*np.exp(2*a1)*np.cos(2*a1)+((4*R2+8*R+4)*np.exp(3*a1)+(4*R2-8*R+4)*np.exp(a1))*np.sin(a1)+((4-4*R2)*np.exp(3*a1)+(4*R2-4)*np.exp(a1))*np.cos(a1)+(-R2-2*R-1)*np.exp(4*a1)-8*a1*np.exp(2*a1)+R2-2*R+1))/(8*a1))\n",
    "    x_num = np.linspace(0,1,100)\n",
    "    z_num = np.cos(α1*x_num) - np.cosh(α1*x_num) + R*(np.sin(α1*x_num) - np.sinh(α1*x_num))\n",
    "    \n",
    "    dzdx_num = α1*(-np.sin(α1)-np.sinh(α1)+R*(np.cos(α1)-np.cosh(α1)))\n",
    "    # numerical\n",
    "    A1 = 1 / np.sqrt(trapz(z_num**2, x_num) + m*z_num[-1]**2 + m*r**2*dzdx_num**2)\n",
    "        \n",
    "    # dynamic deflection slope\n",
    "    dzdx_d = A1*α1*(-np.sin(α1*x)-np.sinh(α1*x)+R*(np.cos(α1*x)-np.cosh(α1*x)))\n",
    "    # static deflection slope\n",
    "    dzdx_s = (6*x-3*x**2)/2\n",
    "\n",
    "    beta =  3/(α1**4) * (dzdx_d/dzdx_s)**2\n",
    "\n",
    "    return beta\n",
    "\n",
    "HTML(r'$\\beta^*=%.3f$ for $\\tilde{m}=\\tilde{r}=0$ which satisfies the literature value for tipless cantilevers.' %beta(0,0))"
   ]
  },
  {
   "cell_type": "code",
   "execution_count": 11,
   "metadata": {},
   "outputs": [
    {
     "data": {
      "image/png": "[encoded data removed]",
      "text/plain": [
       "<Figure size 648x288 with 3 Axes>"
      ]
     },
     "metadata": {
      "needs_background": "light"
     },
     "output_type": "display_data"
    }
   ],
   "source": [
    "M = np.logspace(-3, 3, 50)\n",
    "R = [0, .5, 1]\n",
    "X = [1,0.9,0.8]\n",
    "\n",
    "m, n = len(R), len(X)\n",
    "\n",
    "fig, ax = plt.subplots(1, n, figsize=(9,4), sharey=True)\n",
    "\n",
    "for i in range(n):\n",
    "    for j in range(m):\n",
    "        B = [beta(_m, R[j], X[i]) for _m in M]\n",
    "    \n",
    "        ax[i].semilogx(M, B, label=r'$\\tilde{r}=%.1f$' %R[j])\n",
    "        \n",
    "    ax[i].set_title(r'$x_0/L = %.1f$' %(X[i]))\n",
    "    \n",
    "\n",
    "ax[0].set_ylabel(r'$\\beta$', fontsize=16)\n",
    "ax[1].set_xlabel(r'$\\tilde{m}$', fontsize=16)    \n",
    "ax[-1].legend(loc='center left', bbox_to_anchor=(1, 0.5), fontsize=16, frameon=False)\n",
    "\n",
    "fig.tight_layout()"
   ]
  },
  {
   "cell_type": "markdown",
   "metadata": {},
   "source": [
    "We obtain identical cuvres to paper [1] for $x_0/L=1$, other laser beam positions are not presented in literature."
   ]
  },
  {
   "cell_type": "markdown",
   "metadata": {},
   "source": [
    "# Pre-calculating eigenvalues"
   ]
  },
  {
   "cell_type": "markdown",
   "metadata": {},
   "source": [
    "Pre-calculating eigenvalues for $\\tilde{m}\\in[0,1]$ in steps of $0.01$ and $\\tilde{r}\\in[0,0.1]$ in steps of $0.001$"
   ]
  },
  {
   "cell_type": "code",
   "execution_count": 12,
   "metadata": {},
   "outputs": [
    {
     "data": {
      "application/vnd.jupyter.widget-view+json": {
       "model_id": "a8468e63ef1d4967b09e1b55071df9d5",
       "version_major": 2,
       "version_minor": 0
      },
      "text/plain": [
       "HBox(children=(FloatProgress(value=0.0, max=101.0), HTML(value='')))"
      ]
     },
     "metadata": {},
     "output_type": "display_data"
    },
    {
     "data": {
      "application/vnd.jupyter.widget-view+json": {
       "model_id": "",
       "version_major": 2,
       "version_minor": 0
      },
      "text/plain": [
       "HBox(children=(FloatProgress(value=0.0, max=101.0), HTML(value='')))"
      ]
     },
     "metadata": {},
     "output_type": "display_data"
    },
    {
     "data": {
      "application/vnd.jupyter.widget-view+json": {
       "model_id": "",
       "version_major": 2,
       "version_minor": 0
      },
      "text/plain": [
       "HBox(children=(FloatProgress(value=0.0, max=101.0), HTML(value='')))"
      ]
     },
     "metadata": {},
     "output_type": "display_data"
    },
    {
     "data": {
      "application/vnd.jupyter.widget-view+json": {
       "model_id": "",
       "version_major": 2,
       "version_minor": 0
      },
      "text/plain": [
       "HBox(children=(FloatProgress(value=0.0, max=101.0), HTML(value='')))"
      ]
     },
     "metadata": {},
     "output_type": "display_data"
    },
    {
     "data": {
      "application/vnd.jupyter.widget-view+json": {
       "model_id": "",
       "version_major": 2,
       "version_minor": 0
      },
      "text/plain": [
       "HBox(children=(FloatProgress(value=0.0, max=101.0), HTML(value='')))"
      ]
     },
     "metadata": {},
     "output_type": "display_data"
    },
    {
     "data": {
      "application/vnd.jupyter.widget-view+json": {
       "model_id": "",
       "version_major": 2,
       "version_minor": 0
      },
      "text/plain": [
       "HBox(children=(FloatProgress(value=0.0, max=101.0), HTML(value='')))"
      ]
     },
     "metadata": {},
     "output_type": "display_data"
    },
    {
     "data": {
      "application/vnd.jupyter.widget-view+json": {
       "model_id": "",
       "version_major": 2,
       "version_minor": 0
      },
      "text/plain": [
       "HBox(children=(FloatProgress(value=0.0, max=101.0), HTML(value='')))"
      ]
     },
     "metadata": {},
     "output_type": "display_data"
    },
    {
     "data": {
      "application/vnd.jupyter.widget-view+json": {
       "model_id": "",
       "version_major": 2,
       "version_minor": 0
      },
      "text/plain": [
       "HBox(children=(FloatProgress(value=0.0, max=101.0), HTML(value='')))"
      ]
     },
     "metadata": {},
     "output_type": "display_data"
    },
    {
     "data": {
      "application/vnd.jupyter.widget-view+json": {
       "model_id": "",
       "version_major": 2,
       "version_minor": 0
      },
      "text/plain": [
       "HBox(children=(FloatProgress(value=0.0, max=101.0), HTML(value='')))"
      ]
     },
     "metadata": {},
     "output_type": "display_data"
    },
    {
     "data": {
      "application/vnd.jupyter.widget-view+json": {
       "model_id": "",
       "version_major": 2,
       "version_minor": 0
      },
      "text/plain": [
       "HBox(children=(FloatProgress(value=0.0, max=101.0), HTML(value='')))"
      ]
     },
     "metadata": {},
     "output_type": "display_data"
    },
    {
     "data": {
      "application/vnd.jupyter.widget-view+json": {
       "model_id": "",
       "version_major": 2,
       "version_minor": 0
      },
      "text/plain": [
       "HBox(children=(FloatProgress(value=0.0, max=101.0), HTML(value='')))"
      ]
     },
     "metadata": {},
     "output_type": "display_data"
    },
    {
     "data": {
      "application/vnd.jupyter.widget-view+json": {
       "model_id": "",
       "version_major": 2,
       "version_minor": 0
      },
      "text/plain": [
       "HBox(children=(FloatProgress(value=0.0, max=101.0), HTML(value='')))"
      ]
     },
     "metadata": {},
     "output_type": "display_data"
    },
    {
     "data": {
      "application/vnd.jupyter.widget-view+json": {
       "model_id": "",
       "version_major": 2,
       "version_minor": 0
      },
      "text/plain": [
       "HBox(children=(FloatProgress(value=0.0, max=101.0), HTML(value='')))"
      ]
     },
     "metadata": {},
     "output_type": "display_data"
    },
    {
     "data": {
      "application/vnd.jupyter.widget-view+json": {
       "model_id": "",
       "version_major": 2,
       "version_minor": 0
      },
      "text/plain": [
       "HBox(children=(FloatProgress(value=0.0, max=101.0), HTML(value='')))"
      ]
     },
     "metadata": {},
     "output_type": "display_data"
    },
    {
     "data": {
      "application/vnd.jupyter.widget-view+json": {
       "model_id": "",
       "version_major": 2,
       "version_minor": 0
      },
      "text/plain": [
       "HBox(children=(FloatProgress(value=0.0, max=101.0), HTML(value='')))"
      ]
     },
     "metadata": {},
     "output_type": "display_data"
    },
    {
     "data": {
      "application/vnd.jupyter.widget-view+json": {
       "model_id": "",
       "version_major": 2,
       "version_minor": 0
      },
      "text/plain": [
       "HBox(children=(FloatProgress(value=0.0, max=101.0), HTML(value='')))"
      ]
     },
     "metadata": {},
     "output_type": "display_data"
    },
    {
     "data": {
      "application/vnd.jupyter.widget-view+json": {
       "model_id": "",
       "version_major": 2,
       "version_minor": 0
      },
      "text/plain": [
       "HBox(children=(FloatProgress(value=0.0, max=101.0), HTML(value='')))"
      ]
     },
     "metadata": {},
     "output_type": "display_data"
    },
    {
     "data": {
      "application/vnd.jupyter.widget-view+json": {
       "model_id": "",
       "version_major": 2,
       "version_minor": 0
      },
      "text/plain": [
       "HBox(children=(FloatProgress(value=0.0, max=101.0), HTML(value='')))"
      ]
     },
     "metadata": {},
     "output_type": "display_data"
    },
    {
     "data": {
      "application/vnd.jupyter.widget-view+json": {
       "model_id": "",
       "version_major": 2,
       "version_minor": 0
      },
      "text/plain": [
       "HBox(children=(FloatProgress(value=0.0, max=101.0), HTML(value='')))"
      ]
     },
     "metadata": {},
     "output_type": "display_data"
    },
    {
     "data": {
      "application/vnd.jupyter.widget-view+json": {
       "model_id": "",
       "version_major": 2,
       "version_minor": 0
      },
      "text/plain": [
       "HBox(children=(FloatProgress(value=0.0, max=101.0), HTML(value='')))"
      ]
     },
     "metadata": {},
     "output_type": "display_data"
    },
    {
     "data": {
      "application/vnd.jupyter.widget-view+json": {
       "model_id": "",
       "version_major": 2,
       "version_minor": 0
      },
      "text/plain": [
       "HBox(children=(FloatProgress(value=0.0, max=101.0), HTML(value='')))"
      ]
     },
     "metadata": {},
     "output_type": "display_data"
    },
    {
     "data": {
      "application/vnd.jupyter.widget-view+json": {
       "model_id": "",
       "version_major": 2,
       "version_minor": 0
      },
      "text/plain": [
       "HBox(children=(FloatProgress(value=0.0, max=101.0), HTML(value='')))"
      ]
     },
     "metadata": {},
     "output_type": "display_data"
    },
    {
     "data": {
      "application/vnd.jupyter.widget-view+json": {
       "model_id": "",
       "version_major": 2,
       "version_minor": 0
      },
      "text/plain": [
       "HBox(children=(FloatProgress(value=0.0, max=101.0), HTML(value='')))"
      ]
     },
     "metadata": {},
     "output_type": "display_data"
    },
    {
     "data": {
      "application/vnd.jupyter.widget-view+json": {
       "model_id": "",
       "version_major": 2,
       "version_minor": 0
      },
      "text/plain": [
       "HBox(children=(FloatProgress(value=0.0, max=101.0), HTML(value='')))"
      ]
     },
     "metadata": {},
     "output_type": "display_data"
    },
    {
     "data": {
      "application/vnd.jupyter.widget-view+json": {
       "model_id": "",
       "version_major": 2,
       "version_minor": 0
      },
      "text/plain": [
       "HBox(children=(FloatProgress(value=0.0, max=101.0), HTML(value='')))"
      ]
     },
     "metadata": {},
     "output_type": "display_data"
    },
    {
     "data": {
      "application/vnd.jupyter.widget-view+json": {
       "model_id": "",
       "version_major": 2,
       "version_minor": 0
      },
      "text/plain": [
       "HBox(children=(FloatProgress(value=0.0, max=101.0), HTML(value='')))"
      ]
     },
     "metadata": {},
     "output_type": "display_data"
    },
    {
     "data": {
      "application/vnd.jupyter.widget-view+json": {
       "model_id": "",
       "version_major": 2,
       "version_minor": 0
      },
      "text/plain": [
       "HBox(children=(FloatProgress(value=0.0, max=101.0), HTML(value='')))"
      ]
     },
     "metadata": {},
     "output_type": "display_data"
    },
    {
     "data": {
      "application/vnd.jupyter.widget-view+json": {
       "model_id": "",
       "version_major": 2,
       "version_minor": 0
      },
      "text/plain": [
       "HBox(children=(FloatProgress(value=0.0, max=101.0), HTML(value='')))"
      ]
     },
     "metadata": {},
     "output_type": "display_data"
    },
    {
     "data": {
      "application/vnd.jupyter.widget-view+json": {
       "model_id": "",
       "version_major": 2,
       "version_minor": 0
      },
      "text/plain": [
       "HBox(children=(FloatProgress(value=0.0, max=101.0), HTML(value='')))"
      ]
     },
     "metadata": {},
     "output_type": "display_data"
    },
    {
     "data": {
      "application/vnd.jupyter.widget-view+json": {
       "model_id": "",
       "version_major": 2,
       "version_minor": 0
      },
      "text/plain": [
       "HBox(children=(FloatProgress(value=0.0, max=101.0), HTML(value='')))"
      ]
     },
     "metadata": {},
     "output_type": "display_data"
    },
    {
     "data": {
      "application/vnd.jupyter.widget-view+json": {
       "model_id": "",
       "version_major": 2,
       "version_minor": 0
      },
      "text/plain": [
       "HBox(children=(FloatProgress(value=0.0, max=101.0), HTML(value='')))"
      ]
     },
     "metadata": {},
     "output_type": "display_data"
    },
    {
     "data": {
      "application/vnd.jupyter.widget-view+json": {
       "model_id": "",
       "version_major": 2,
       "version_minor": 0
      },
      "text/plain": [
       "HBox(children=(FloatProgress(value=0.0, max=101.0), HTML(value='')))"
      ]
     },
     "metadata": {},
     "output_type": "display_data"
    },
    {
     "data": {
      "application/vnd.jupyter.widget-view+json": {
       "model_id": "",
       "version_major": 2,
       "version_minor": 0
      },
      "text/plain": [
       "HBox(children=(FloatProgress(value=0.0, max=101.0), HTML(value='')))"
      ]
     },
     "metadata": {},
     "output_type": "display_data"
    },
    {
     "data": {
      "application/vnd.jupyter.widget-view+json": {
       "model_id": "",
       "version_major": 2,
       "version_minor": 0
      },
      "text/plain": [
       "HBox(children=(FloatProgress(value=0.0, max=101.0), HTML(value='')))"
      ]
     },
     "metadata": {},
     "output_type": "display_data"
    },
    {
     "data": {
      "application/vnd.jupyter.widget-view+json": {
       "model_id": "",
       "version_major": 2,
       "version_minor": 0
      },
      "text/plain": [
       "HBox(children=(FloatProgress(value=0.0, max=101.0), HTML(value='')))"
      ]
     },
     "metadata": {},
     "output_type": "display_data"
    },
    {
     "data": {
      "application/vnd.jupyter.widget-view+json": {
       "model_id": "",
       "version_major": 2,
       "version_minor": 0
      },
      "text/plain": [
       "HBox(children=(FloatProgress(value=0.0, max=101.0), HTML(value='')))"
      ]
     },
     "metadata": {},
     "output_type": "display_data"
    },
    {
     "data": {
      "application/vnd.jupyter.widget-view+json": {
       "model_id": "",
       "version_major": 2,
       "version_minor": 0
      },
      "text/plain": [
       "HBox(children=(FloatProgress(value=0.0, max=101.0), HTML(value='')))"
      ]
     },
     "metadata": {},
     "output_type": "display_data"
    },
    {
     "data": {
      "application/vnd.jupyter.widget-view+json": {
       "model_id": "",
       "version_major": 2,
       "version_minor": 0
      },
      "text/plain": [
       "HBox(children=(FloatProgress(value=0.0, max=101.0), HTML(value='')))"
      ]
     },
     "metadata": {},
     "output_type": "display_data"
    },
    {
     "data": {
      "application/vnd.jupyter.widget-view+json": {
       "model_id": "",
       "version_major": 2,
       "version_minor": 0
      },
      "text/plain": [
       "HBox(children=(FloatProgress(value=0.0, max=101.0), HTML(value='')))"
      ]
     },
     "metadata": {},
     "output_type": "display_data"
    },
    {
     "data": {
      "application/vnd.jupyter.widget-view+json": {
       "model_id": "",
       "version_major": 2,
       "version_minor": 0
      },
      "text/plain": [
       "HBox(children=(FloatProgress(value=0.0, max=101.0), HTML(value='')))"
      ]
     },
     "metadata": {},
     "output_type": "display_data"
    },
    {
     "data": {
      "application/vnd.jupyter.widget-view+json": {
       "model_id": "",
       "version_major": 2,
       "version_minor": 0
      },
      "text/plain": [
       "HBox(children=(FloatProgress(value=0.0, max=101.0), HTML(value='')))"
      ]
     },
     "metadata": {},
     "output_type": "display_data"
    },
    {
     "data": {
      "application/vnd.jupyter.widget-view+json": {
       "model_id": "",
       "version_major": 2,
       "version_minor": 0
      },
      "text/plain": [
       "HBox(children=(FloatProgress(value=0.0, max=101.0), HTML(value='')))"
      ]
     },
     "metadata": {},
     "output_type": "display_data"
    },
    {
     "data": {
      "application/vnd.jupyter.widget-view+json": {
       "model_id": "",
       "version_major": 2,
       "version_minor": 0
      },
      "text/plain": [
       "HBox(children=(FloatProgress(value=0.0, max=101.0), HTML(value='')))"
      ]
     },
     "metadata": {},
     "output_type": "display_data"
    },
    {
     "data": {
      "application/vnd.jupyter.widget-view+json": {
       "model_id": "",
       "version_major": 2,
       "version_minor": 0
      },
      "text/plain": [
       "HBox(children=(FloatProgress(value=0.0, max=101.0), HTML(value='')))"
      ]
     },
     "metadata": {},
     "output_type": "display_data"
    },
    {
     "data": {
      "application/vnd.jupyter.widget-view+json": {
       "model_id": "",
       "version_major": 2,
       "version_minor": 0
      },
      "text/plain": [
       "HBox(children=(FloatProgress(value=0.0, max=101.0), HTML(value='')))"
      ]
     },
     "metadata": {},
     "output_type": "display_data"
    },
    {
     "data": {
      "application/vnd.jupyter.widget-view+json": {
       "model_id": "",
       "version_major": 2,
       "version_minor": 0
      },
      "text/plain": [
       "HBox(children=(FloatProgress(value=0.0, max=101.0), HTML(value='')))"
      ]
     },
     "metadata": {},
     "output_type": "display_data"
    },
    {
     "data": {
      "application/vnd.jupyter.widget-view+json": {
       "model_id": "",
       "version_major": 2,
       "version_minor": 0
      },
      "text/plain": [
       "HBox(children=(FloatProgress(value=0.0, max=101.0), HTML(value='')))"
      ]
     },
     "metadata": {},
     "output_type": "display_data"
    },
    {
     "data": {
      "application/vnd.jupyter.widget-view+json": {
       "model_id": "",
       "version_major": 2,
       "version_minor": 0
      },
      "text/plain": [
       "HBox(children=(FloatProgress(value=0.0, max=101.0), HTML(value='')))"
      ]
     },
     "metadata": {},
     "output_type": "display_data"
    },
    {
     "data": {
      "application/vnd.jupyter.widget-view+json": {
       "model_id": "",
       "version_major": 2,
       "version_minor": 0
      },
      "text/plain": [
       "HBox(children=(FloatProgress(value=0.0, max=101.0), HTML(value='')))"
      ]
     },
     "metadata": {},
     "output_type": "display_data"
    },
    {
     "data": {
      "application/vnd.jupyter.widget-view+json": {
       "model_id": "",
       "version_major": 2,
       "version_minor": 0
      },
      "text/plain": [
       "HBox(children=(FloatProgress(value=0.0, max=101.0), HTML(value='')))"
      ]
     },
     "metadata": {},
     "output_type": "display_data"
    },
    {
     "data": {
      "application/vnd.jupyter.widget-view+json": {
       "model_id": "",
       "version_major": 2,
       "version_minor": 0
      },
      "text/plain": [
       "HBox(children=(FloatProgress(value=0.0, max=101.0), HTML(value='')))"
      ]
     },
     "metadata": {},
     "output_type": "display_data"
    },
    {
     "data": {
      "application/vnd.jupyter.widget-view+json": {
       "model_id": "",
       "version_major": 2,
       "version_minor": 0
      },
      "text/plain": [
       "HBox(children=(FloatProgress(value=0.0, max=101.0), HTML(value='')))"
      ]
     },
     "metadata": {},
     "output_type": "display_data"
    },
    {
     "data": {
      "application/vnd.jupyter.widget-view+json": {
       "model_id": "",
       "version_major": 2,
       "version_minor": 0
      },
      "text/plain": [
       "HBox(children=(FloatProgress(value=0.0, max=101.0), HTML(value='')))"
      ]
     },
     "metadata": {},
     "output_type": "display_data"
    },
    {
     "data": {
      "application/vnd.jupyter.widget-view+json": {
       "model_id": "",
       "version_major": 2,
       "version_minor": 0
      },
      "text/plain": [
       "HBox(children=(FloatProgress(value=0.0, max=101.0), HTML(value='')))"
      ]
     },
     "metadata": {},
     "output_type": "display_data"
    },
    {
     "data": {
      "application/vnd.jupyter.widget-view+json": {
       "model_id": "",
       "version_major": 2,
       "version_minor": 0
      },
      "text/plain": [
       "HBox(children=(FloatProgress(value=0.0, max=101.0), HTML(value='')))"
      ]
     },
     "metadata": {},
     "output_type": "display_data"
    },
    {
     "data": {
      "application/vnd.jupyter.widget-view+json": {
       "model_id": "",
       "version_major": 2,
       "version_minor": 0
      },
      "text/plain": [
       "HBox(children=(FloatProgress(value=0.0, max=101.0), HTML(value='')))"
      ]
     },
     "metadata": {},
     "output_type": "display_data"
    },
    {
     "data": {
      "application/vnd.jupyter.widget-view+json": {
       "model_id": "",
       "version_major": 2,
       "version_minor": 0
      },
      "text/plain": [
       "HBox(children=(FloatProgress(value=0.0, max=101.0), HTML(value='')))"
      ]
     },
     "metadata": {},
     "output_type": "display_data"
    },
    {
     "data": {
      "application/vnd.jupyter.widget-view+json": {
       "model_id": "",
       "version_major": 2,
       "version_minor": 0
      },
      "text/plain": [
       "HBox(children=(FloatProgress(value=0.0, max=101.0), HTML(value='')))"
      ]
     },
     "metadata": {},
     "output_type": "display_data"
    },
    {
     "data": {
      "application/vnd.jupyter.widget-view+json": {
       "model_id": "",
       "version_major": 2,
       "version_minor": 0
      },
      "text/plain": [
       "HBox(children=(FloatProgress(value=0.0, max=101.0), HTML(value='')))"
      ]
     },
     "metadata": {},
     "output_type": "display_data"
    },
    {
     "data": {
      "application/vnd.jupyter.widget-view+json": {
       "model_id": "",
       "version_major": 2,
       "version_minor": 0
      },
      "text/plain": [
       "HBox(children=(FloatProgress(value=0.0, max=101.0), HTML(value='')))"
      ]
     },
     "metadata": {},
     "output_type": "display_data"
    },
    {
     "data": {
      "application/vnd.jupyter.widget-view+json": {
       "model_id": "",
       "version_major": 2,
       "version_minor": 0
      },
      "text/plain": [
       "HBox(children=(FloatProgress(value=0.0, max=101.0), HTML(value='')))"
      ]
     },
     "metadata": {},
     "output_type": "display_data"
    },
    {
     "data": {
      "application/vnd.jupyter.widget-view+json": {
       "model_id": "",
       "version_major": 2,
       "version_minor": 0
      },
      "text/plain": [
       "HBox(children=(FloatProgress(value=0.0, max=101.0), HTML(value='')))"
      ]
     },
     "metadata": {},
     "output_type": "display_data"
    },
    {
     "data": {
      "application/vnd.jupyter.widget-view+json": {
       "model_id": "",
       "version_major": 2,
       "version_minor": 0
      },
      "text/plain": [
       "HBox(children=(FloatProgress(value=0.0, max=101.0), HTML(value='')))"
      ]
     },
     "metadata": {},
     "output_type": "display_data"
    },
    {
     "data": {
      "application/vnd.jupyter.widget-view+json": {
       "model_id": "",
       "version_major": 2,
       "version_minor": 0
      },
      "text/plain": [
       "HBox(children=(FloatProgress(value=0.0, max=101.0), HTML(value='')))"
      ]
     },
     "metadata": {},
     "output_type": "display_data"
    },
    {
     "data": {
      "application/vnd.jupyter.widget-view+json": {
       "model_id": "",
       "version_major": 2,
       "version_minor": 0
      },
      "text/plain": [
       "HBox(children=(FloatProgress(value=0.0, max=101.0), HTML(value='')))"
      ]
     },
     "metadata": {},
     "output_type": "display_data"
    },
    {
     "data": {
      "application/vnd.jupyter.widget-view+json": {
       "model_id": "",
       "version_major": 2,
       "version_minor": 0
      },
      "text/plain": [
       "HBox(children=(FloatProgress(value=0.0, max=101.0), HTML(value='')))"
      ]
     },
     "metadata": {},
     "output_type": "display_data"
    },
    {
     "data": {
      "application/vnd.jupyter.widget-view+json": {
       "model_id": "",
       "version_major": 2,
       "version_minor": 0
      },
      "text/plain": [
       "HBox(children=(FloatProgress(value=0.0, max=101.0), HTML(value='')))"
      ]
     },
     "metadata": {},
     "output_type": "display_data"
    },
    {
     "data": {
      "application/vnd.jupyter.widget-view+json": {
       "model_id": "",
       "version_major": 2,
       "version_minor": 0
      },
      "text/plain": [
       "HBox(children=(FloatProgress(value=0.0, max=101.0), HTML(value='')))"
      ]
     },
     "metadata": {},
     "output_type": "display_data"
    },
    {
     "data": {
      "application/vnd.jupyter.widget-view+json": {
       "model_id": "",
       "version_major": 2,
       "version_minor": 0
      },
      "text/plain": [
       "HBox(children=(FloatProgress(value=0.0, max=101.0), HTML(value='')))"
      ]
     },
     "metadata": {},
     "output_type": "display_data"
    },
    {
     "data": {
      "application/vnd.jupyter.widget-view+json": {
       "model_id": "",
       "version_major": 2,
       "version_minor": 0
      },
      "text/plain": [
       "HBox(children=(FloatProgress(value=0.0, max=101.0), HTML(value='')))"
      ]
     },
     "metadata": {},
     "output_type": "display_data"
    },
    {
     "data": {
      "application/vnd.jupyter.widget-view+json": {
       "model_id": "",
       "version_major": 2,
       "version_minor": 0
      },
      "text/plain": [
       "HBox(children=(FloatProgress(value=0.0, max=101.0), HTML(value='')))"
      ]
     },
     "metadata": {},
     "output_type": "display_data"
    },
    {
     "data": {
      "application/vnd.jupyter.widget-view+json": {
       "model_id": "",
       "version_major": 2,
       "version_minor": 0
      },
      "text/plain": [
       "HBox(children=(FloatProgress(value=0.0, max=101.0), HTML(value='')))"
      ]
     },
     "metadata": {},
     "output_type": "display_data"
    },
    {
     "data": {
      "application/vnd.jupyter.widget-view+json": {
       "model_id": "",
       "version_major": 2,
       "version_minor": 0
      },
      "text/plain": [
       "HBox(children=(FloatProgress(value=0.0, max=101.0), HTML(value='')))"
      ]
     },
     "metadata": {},
     "output_type": "display_data"
    },
    {
     "data": {
      "application/vnd.jupyter.widget-view+json": {
       "model_id": "",
       "version_major": 2,
       "version_minor": 0
      },
      "text/plain": [
       "HBox(children=(FloatProgress(value=0.0, max=101.0), HTML(value='')))"
      ]
     },
     "metadata": {},
     "output_type": "display_data"
    },
    {
     "data": {
      "application/vnd.jupyter.widget-view+json": {
       "model_id": "",
       "version_major": 2,
       "version_minor": 0
      },
      "text/plain": [
       "HBox(children=(FloatProgress(value=0.0, max=101.0), HTML(value='')))"
      ]
     },
     "metadata": {},
     "output_type": "display_data"
    },
    {
     "data": {
      "application/vnd.jupyter.widget-view+json": {
       "model_id": "",
       "version_major": 2,
       "version_minor": 0
      },
      "text/plain": [
       "HBox(children=(FloatProgress(value=0.0, max=101.0), HTML(value='')))"
      ]
     },
     "metadata": {},
     "output_type": "display_data"
    },
    {
     "data": {
      "application/vnd.jupyter.widget-view+json": {
       "model_id": "",
       "version_major": 2,
       "version_minor": 0
      },
      "text/plain": [
       "HBox(children=(FloatProgress(value=0.0, max=101.0), HTML(value='')))"
      ]
     },
     "metadata": {},
     "output_type": "display_data"
    },
    {
     "data": {
      "application/vnd.jupyter.widget-view+json": {
       "model_id": "",
       "version_major": 2,
       "version_minor": 0
      },
      "text/plain": [
       "HBox(children=(FloatProgress(value=0.0, max=101.0), HTML(value='')))"
      ]
     },
     "metadata": {},
     "output_type": "display_data"
    },
    {
     "data": {
      "application/vnd.jupyter.widget-view+json": {
       "model_id": "",
       "version_major": 2,
       "version_minor": 0
      },
      "text/plain": [
       "HBox(children=(FloatProgress(value=0.0, max=101.0), HTML(value='')))"
      ]
     },
     "metadata": {},
     "output_type": "display_data"
    },
    {
     "data": {
      "application/vnd.jupyter.widget-view+json": {
       "model_id": "",
       "version_major": 2,
       "version_minor": 0
      },
      "text/plain": [
       "HBox(children=(FloatProgress(value=0.0, max=101.0), HTML(value='')))"
      ]
     },
     "metadata": {},
     "output_type": "display_data"
    },
    {
     "data": {
      "application/vnd.jupyter.widget-view+json": {
       "model_id": "",
       "version_major": 2,
       "version_minor": 0
      },
      "text/plain": [
       "HBox(children=(FloatProgress(value=0.0, max=101.0), HTML(value='')))"
      ]
     },
     "metadata": {},
     "output_type": "display_data"
    },
    {
     "data": {
      "application/vnd.jupyter.widget-view+json": {
       "model_id": "",
       "version_major": 2,
       "version_minor": 0
      },
      "text/plain": [
       "HBox(children=(FloatProgress(value=0.0, max=101.0), HTML(value='')))"
      ]
     },
     "metadata": {},
     "output_type": "display_data"
    },
    {
     "data": {
      "application/vnd.jupyter.widget-view+json": {
       "model_id": "",
       "version_major": 2,
       "version_minor": 0
      },
      "text/plain": [
       "HBox(children=(FloatProgress(value=0.0, max=101.0), HTML(value='')))"
      ]
     },
     "metadata": {},
     "output_type": "display_data"
    },
    {
     "data": {
      "application/vnd.jupyter.widget-view+json": {
       "model_id": "",
       "version_major": 2,
       "version_minor": 0
      },
      "text/plain": [
       "HBox(children=(FloatProgress(value=0.0, max=101.0), HTML(value='')))"
      ]
     },
     "metadata": {},
     "output_type": "display_data"
    },
    {
     "data": {
      "application/vnd.jupyter.widget-view+json": {
       "model_id": "",
       "version_major": 2,
       "version_minor": 0
      },
      "text/plain": [
       "HBox(children=(FloatProgress(value=0.0, max=101.0), HTML(value='')))"
      ]
     },
     "metadata": {},
     "output_type": "display_data"
    },
    {
     "data": {
      "application/vnd.jupyter.widget-view+json": {
       "model_id": "",
       "version_major": 2,
       "version_minor": 0
      },
      "text/plain": [
       "HBox(children=(FloatProgress(value=0.0, max=101.0), HTML(value='')))"
      ]
     },
     "metadata": {},
     "output_type": "display_data"
    },
    {
     "data": {
      "application/vnd.jupyter.widget-view+json": {
       "model_id": "",
       "version_major": 2,
       "version_minor": 0
      },
      "text/plain": [
       "HBox(children=(FloatProgress(value=0.0, max=101.0), HTML(value='')))"
      ]
     },
     "metadata": {},
     "output_type": "display_data"
    },
    {
     "data": {
      "application/vnd.jupyter.widget-view+json": {
       "model_id": "",
       "version_major": 2,
       "version_minor": 0
      },
      "text/plain": [
       "HBox(children=(FloatProgress(value=0.0, max=101.0), HTML(value='')))"
      ]
     },
     "metadata": {},
     "output_type": "display_data"
    },
    {
     "data": {
      "application/vnd.jupyter.widget-view+json": {
       "model_id": "",
       "version_major": 2,
       "version_minor": 0
      },
      "text/plain": [
       "HBox(children=(FloatProgress(value=0.0, max=101.0), HTML(value='')))"
      ]
     },
     "metadata": {},
     "output_type": "display_data"
    },
    {
     "data": {
      "application/vnd.jupyter.widget-view+json": {
       "model_id": "",
       "version_major": 2,
       "version_minor": 0
      },
      "text/plain": [
       "HBox(children=(FloatProgress(value=0.0, max=101.0), HTML(value='')))"
      ]
     },
     "metadata": {},
     "output_type": "display_data"
    },
    {
     "data": {
      "application/vnd.jupyter.widget-view+json": {
       "model_id": "",
       "version_major": 2,
       "version_minor": 0
      },
      "text/plain": [
       "HBox(children=(FloatProgress(value=0.0, max=101.0), HTML(value='')))"
      ]
     },
     "metadata": {},
     "output_type": "display_data"
    },
    {
     "data": {
      "application/vnd.jupyter.widget-view+json": {
       "model_id": "",
       "version_major": 2,
       "version_minor": 0
      },
      "text/plain": [
       "HBox(children=(FloatProgress(value=0.0, max=101.0), HTML(value='')))"
      ]
     },
     "metadata": {},
     "output_type": "display_data"
    },
    {
     "data": {
      "application/vnd.jupyter.widget-view+json": {
       "model_id": "",
       "version_major": 2,
       "version_minor": 0
      },
      "text/plain": [
       "HBox(children=(FloatProgress(value=0.0, max=101.0), HTML(value='')))"
      ]
     },
     "metadata": {},
     "output_type": "display_data"
    },
    {
     "data": {
      "application/vnd.jupyter.widget-view+json": {
       "model_id": "",
       "version_major": 2,
       "version_minor": 0
      },
      "text/plain": [
       "HBox(children=(FloatProgress(value=0.0, max=101.0), HTML(value='')))"
      ]
     },
     "metadata": {},
     "output_type": "display_data"
    },
    {
     "data": {
      "application/vnd.jupyter.widget-view+json": {
       "model_id": "",
       "version_major": 2,
       "version_minor": 0
      },
      "text/plain": [
       "HBox(children=(FloatProgress(value=0.0, max=101.0), HTML(value='')))"
      ]
     },
     "metadata": {},
     "output_type": "display_data"
    },
    {
     "data": {
      "application/vnd.jupyter.widget-view+json": {
       "model_id": "",
       "version_major": 2,
       "version_minor": 0
      },
      "text/plain": [
       "HBox(children=(FloatProgress(value=0.0, max=101.0), HTML(value='')))"
      ]
     },
     "metadata": {},
     "output_type": "display_data"
    },
    {
     "data": {
      "application/vnd.jupyter.widget-view+json": {
       "model_id": "",
       "version_major": 2,
       "version_minor": 0
      },
      "text/plain": [
       "HBox(children=(FloatProgress(value=0.0, max=101.0), HTML(value='')))"
      ]
     },
     "metadata": {},
     "output_type": "display_data"
    },
    {
     "data": {
      "application/vnd.jupyter.widget-view+json": {
       "model_id": "",
       "version_major": 2,
       "version_minor": 0
      },
      "text/plain": [
       "HBox(children=(FloatProgress(value=0.0, max=101.0), HTML(value='')))"
      ]
     },
     "metadata": {},
     "output_type": "display_data"
    },
    {
     "data": {
      "application/vnd.jupyter.widget-view+json": {
       "model_id": "",
       "version_major": 2,
       "version_minor": 0
      },
      "text/plain": [
       "HBox(children=(FloatProgress(value=0.0, max=101.0), HTML(value='')))"
      ]
     },
     "metadata": {},
     "output_type": "display_data"
    },
    {
     "data": {
      "application/vnd.jupyter.widget-view+json": {
       "model_id": "",
       "version_major": 2,
       "version_minor": 0
      },
      "text/plain": [
       "HBox(children=(FloatProgress(value=0.0, max=101.0), HTML(value='')))"
      ]
     },
     "metadata": {},
     "output_type": "display_data"
    },
    {
     "data": {
      "application/vnd.jupyter.widget-view+json": {
       "model_id": "",
       "version_major": 2,
       "version_minor": 0
      },
      "text/plain": [
       "HBox(children=(FloatProgress(value=0.0, max=101.0), HTML(value='')))"
      ]
     },
     "metadata": {},
     "output_type": "display_data"
    },
    {
     "data": {
      "application/vnd.jupyter.widget-view+json": {
       "model_id": "",
       "version_major": 2,
       "version_minor": 0
      },
      "text/plain": [
       "HBox(children=(FloatProgress(value=0.0, max=101.0), HTML(value='')))"
      ]
     },
     "metadata": {},
     "output_type": "display_data"
    },
    {
     "name": "stdout",
     "output_type": "stream",
     "text": [
      "\n",
      "solving values close to asymtotes\n",
      "_________________\n",
      "all m-r solved000\n"
     ]
    }
   ],
   "source": [
    "N = 101\n",
    "\n",
    "m = np.linspace(0, 1, N)\n",
    "r = np.linspace(0, .1, N)\n",
    "\n",
    "# mg, rg = np.meshgrid(m, r, indexing='ij', sparse=True)\n",
    "\n",
    "α = np.zeros((N, N, 3))\n",
    "\n",
    "N = 100\n",
    "\n",
    "for i in tqdm(range(m.size)):\n",
    "    for j in tqdm(range(r.size), leave=False):\n",
    "        α[i,j] = eigenmodes(m[i], r[j], N=N, b=8, n=3)\n",
    "        \n",
    "# solving nans caused by asymtotes\n",
    "print('solving values close to asymtotes')\n",
    "print('_________________')\n",
    "\n",
    "N = N*10\n",
    "while np.sum(np.isnan(α)):\n",
    "    for i, j in zip(*np.where(np.isnan(α[...,0]))[:2]):\n",
    "        α[i,j] = eigenmodes(m[i],r[j],N=N, b=8, n=3)\n",
    "        print(f'NaN\\'s:{np.sum(np.isnan(α))}, N={N}', end='\\r')\n",
    "    N *= 10\n",
    "print('all m-r solved')"
   ]
  },
  {
   "cell_type": "code",
   "execution_count": 13,
   "metadata": {},
   "outputs": [
    {
     "data": {
      "text/plain": [
       "<matplotlib.image.AxesImage at 0x28617f7a580>"
      ]
     },
     "execution_count": 13,
     "metadata": {},
     "output_type": "execute_result"
    },
    {
     "data": {
      "image/png": "[encoded data removed]",
      "text/plain": [
       "<Figure size 432x288 with 1 Axes>"
      ]
     },
     "metadata": {
      "needs_background": "light"
     },
     "output_type": "display_data"
    }
   ],
   "source": [
    "# encoding eigenvalues to normalized image to inspect artifacts\n",
    "α_im = α.copy()\n",
    "\n",
    "α_im[...,0] /= α_im[...,0].max()\n",
    "α_im[...,1] /= α_im[...,1].max()\n",
    "α_im[...,2] /= α_im[...,2].max()\n",
    "\n",
    "plt.imshow(α_im)"
   ]
  },
  {
   "cell_type": "markdown",
   "metadata": {},
   "source": [
    "No artifacts or deviations are visible; surface looks clean."
   ]
  },
  {
   "cell_type": "code",
   "execution_count": 14,
   "metadata": {},
   "outputs": [],
   "source": [
    "np.save('eigenvalues.npy', α)"
   ]
  }
 ],
 "metadata": {
  "kernelspec": {
   "display_name": "Python 3",
   "language": "python",
   "name": "python3"
  },
  "language_info": {
   "codemirror_mode": {
    "name": "ipython",
    "version": 3
   },
   "file_extension": ".py",
   "mimetype": "text/x-python",
   "name": "python",
   "nbconvert_exporter": "python",
   "pygments_lexer": "ipython3",
   "version": "3.8.3"
  }
 },
 "nbformat": 4,
 "nbformat_minor": 4
}
