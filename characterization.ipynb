{
 "cells": [
  {
   "cell_type": "code",
   "execution_count": 28,
   "metadata": {},
   "outputs": [],
   "source": [
    "import numpy as np\n",
    "import matplotlib.pyplot as plt\n",
    "\n",
    "from scipy.integrate import trapz\n",
    "\n",
    "from IPython.core.display import HTML"
   ]
  },
  {
   "cell_type": "markdown",
   "metadata": {},
   "source": [
    "# Loading the pre-calculated eigenvalues"
   ]
  },
  {
   "cell_type": "code",
   "execution_count": 29,
   "metadata": {},
   "outputs": [],
   "source": [
    "α = np.load('eigenvalues.npy')\n",
    "\n",
    "N = 101\n",
    "\n",
    "m = np.linspace(0, 1, N)\n",
    "r = np.linspace(0, .1, N)"
   ]
  },
  {
   "cell_type": "markdown",
   "metadata": {},
   "source": [
    "For single report and determination of $\\tilde{m}, \\tilde{r}, \\beta$ from input frequencies $f$ see last cell's of the notebeook."
   ]
  },
  {
   "cell_type": "markdown",
   "metadata": {},
   "source": [
    "Only the first three modes are visible in frequency spectrum which are used to determine $\\tilde{m}$ and $\\tilde{r}$"
   ]
  },
  {
   "cell_type": "code",
   "execution_count": 46,
   "metadata": {},
   "outputs": [],
   "source": [
    "# custom probe \n",
    "f = np.array([3494, 27350, 78960])\n",
    "\n",
    "# Functionalized AFM probes for force spectroscopy: eigenmode shapes and stiffness \n",
    "# calibration through thermal noise measurements (2013) J. Laurent\n",
    "# f = np.array([10974, 83050, 246380])"
   ]
  },
  {
   "cell_type": "markdown",
   "metadata": {},
   "source": [
    "# loss function\n",
    "\n",
    "$$\n",
    "\\mathcal{L} = \\sqrt{\\frac{1}{n-1}\\sum_{i=2}^n\\left(\\frac{\\alpha_i}{\\alpha_1} - \\sqrt{\\frac{f_i}{f_1}}\\right)^2}\n",
    "$$"
   ]
  },
  {
   "cell_type": "code",
   "execution_count": 47,
   "metadata": {},
   "outputs": [],
   "source": [
    "def loss(α, f):\n",
    "    # RMSE\n",
    "    return np.sqrt(np.mean((α[1:]/α[0] - np.sqrt(f[1:]/f[0]))**2))"
   ]
  },
  {
   "cell_type": "markdown",
   "metadata": {},
   "source": [
    "Calculating the loss"
   ]
  },
  {
   "cell_type": "code",
   "execution_count": 97,
   "metadata": {},
   "outputs": [],
   "source": [
    "L = np.zeros((N, N))\n",
    "\n",
    "for i in range(N):\n",
    "    for j in range(N):\n",
    "        L[i,j] = loss(α[i,j], f)"
   ]
  },
  {
   "cell_type": "code",
   "execution_count": 98,
   "metadata": {
    "hide_input": false
   },
   "outputs": [
    {
     "data": {
      "image/png": "[encoded data removed]",
      "text/plain": [
       "<Figure size 288x288 with 1 Axes>"
      ]
     },
     "metadata": {
      "needs_background": "light"
     },
     "output_type": "display_data"
    }
   ],
   "source": [
    "plt.matshow(L, extent=(0,.1,0,1), origin='lower', aspect=r.max()/m.max())\n",
    "\n",
    "plt.plot(rb, mb, 'ro', ms=10, markerfacecolor='none')\n",
    "\n",
    "plt.xlabel(r'$\\tilde{r}$')\n",
    "plt.ylabel(r'$\\tilde{m}$')\n",
    "plt.gca().xaxis.tick_bottom()"
   ]
  },
  {
   "cell_type": "code",
   "execution_count": 99,
   "metadata": {},
   "outputs": [],
   "source": [
    "def pct_deviation(αb, f):\n",
    "    return ((αb/αb[0] - np.sqrt(f/f[0])) / np.sqrt(f/f[0]) * 100).round(3)"
   ]
  },
  {
   "cell_type": "code",
   "execution_count": 100,
   "metadata": {},
   "outputs": [
    {
     "data": {
      "text/html": [
       "$\\tilde{m}_\\textrm{best}=0.34$; $\\tilde{r}_\\textrm{best}=0.032$"
      ],
      "text/plain": [
       "<IPython.core.display.HTML object>"
      ]
     },
     "execution_count": 100,
     "metadata": {},
     "output_type": "execute_result"
    }
   ],
   "source": [
    "min_i, min_j = np.unravel_index(np.argmin(L), L.shape)\n",
    "\n",
    "mb, rb = m[min_i], r[min_j]\n",
    "αb = α[min_i,min_j]\n",
    "\n",
    "HTML(f'$\\\\tilde{{m}}_\\\\textrm{{best}}={mb}$; $\\\\tilde{{r}}_\\\\textrm{{best}}={rb}$')"
   ]
  },
  {
   "cell_type": "code",
   "execution_count": 101,
   "metadata": {},
   "outputs": [
    {
     "data": {
      "text/plain": [
       "array([ 0.   ,  0.05 , -0.004])"
      ]
     },
     "execution_count": 101,
     "metadata": {},
     "output_type": "execute_result"
    }
   ],
   "source": [
    "pct_deviation(αb, f)"
   ]
  },
  {
   "cell_type": "code",
   "execution_count": 102,
   "metadata": {},
   "outputs": [
    {
     "data": {
      "text/plain": [
       "0.9303098416527786"
      ]
     },
     "execution_count": 102,
     "metadata": {},
     "output_type": "execute_result"
    }
   ],
   "source": [
    "def beta(α, m, r, min_i, min_j, x=1):\n",
    "    mb = m[min_i]\n",
    "    rb = r[min_j]\n",
    "    α1 = α[min_i, min_j, 0]\n",
    "    \n",
    "    A = np.sin(α1) - np.sinh(α1) + α1*mb*(np.cos(α1) - np.cosh(α1))\n",
    "    B = np.cos(α1) + np.cosh(α1) - α1*mb*(np.sin(α1) - np.sinh(α1))\n",
    "\n",
    "    R = A/B\n",
    "    R2 = R**2\n",
    "    \n",
    "    # normalization factor\n",
    "    x_num = np.linspace(0,1,100)\n",
    "    z_num = np.cos(α1*x_num) - np.cosh(α1*x_num) + R*(np.sin(α1*x_num) - np.sinh(α1*x_num))\n",
    "    \n",
    "    dzdx_num = α1*(-np.sin(α1)-np.sinh(α1)+R*(np.cos(α1)-np.cosh(α1)))\n",
    "    # numerical\n",
    "    A1 = 1 / np.sqrt(trapz(z_num**2, x_num) + mb*z_num[-1]**2 + mb*rb**2*dzdx_num**2)\n",
    "        \n",
    "    # dynamic deflection slope\n",
    "    dzdx_d = A1*α1*(-np.sin(α1*x)-np.sinh(α1*x)+R*(np.cos(α1*x)-np.cosh(α1*x)))\n",
    "    # static deflection slope\n",
    "    dzdx_s = (6*x-3*x**2)/2\n",
    "\n",
    "    beta =  3/(α1**4) * (dzdx_d/dzdx_s)**2\n",
    "\n",
    "    return beta\n",
    "\n",
    "beta(α, m, r, min_i, min_j)"
   ]
  },
  {
   "cell_type": "code",
   "execution_count": 103,
   "metadata": {},
   "outputs": [
    {
     "data": {
      "text/html": [
       "$\\beta^*=(0.930\\pm0.002)$"
      ],
      "text/plain": [
       "<IPython.core.display.HTML object>"
      ]
     },
     "execution_count": 103,
     "metadata": {},
     "output_type": "execute_result"
    }
   ],
   "source": [
    "δm = m[1]-m[0]\n",
    "δr = r[1]-r[0]\n",
    "\n",
    "β = beta(α, m, r, min_i, min_j)\n",
    "δβ = np.sqrt((beta(α,m,r,min_i+1,min_j) - β)**2  + (beta(α,m,r,min_i,min_j+1) - β)**2)\n",
    "\n",
    "HTML(f'$\\\\beta^*=({β:.3f}\\pm{np.ceil(δβ*1000)/1000:.3f})$')"
   ]
  },
  {
   "cell_type": "markdown",
   "metadata": {},
   "source": [
    "# All-in-one calculation for given frequencies $f$"
   ]
  },
  {
   "cell_type": "code",
   "execution_count": 94,
   "metadata": {},
   "outputs": [],
   "source": [
    "def characterize(f, α, m, r, x=1):\n",
    "    L = np.zeros((N, N))\n",
    "\n",
    "    for i in range(N):\n",
    "        for j in range(N):\n",
    "            L[i,j] = loss(α[i,j], f)\n",
    "            \n",
    "    min_i, min_j = np.unravel_index(np.argmin(L), L.shape)\n",
    "                \n",
    "    β = beta(α, m, r, min_i, min_j, x)\n",
    "    δβ = np.sqrt((beta(α,m,r,min_i+1,min_j) - β)**2  + (beta(α,m,r,min_i,min_j+1) - β)**2)\n",
    "    \n",
    "    plt.matshow(L, extent=(0,r.max(),0,m.max()), origin='lower', aspect=r.max()/m.max())\n",
    "    plt.plot(r[min_j], m[min_i], 'ro', ms=10, markerfacecolor='none')\n",
    "    plt.xlabel(r'$\\tilde{r}$')\n",
    "    plt.ylabel(r'$\\tilde{m}$')\n",
    "    plt.gca().xaxis.tick_bottom()\n",
    "    plt.show()\n",
    "    \n",
    "    return HTML(\n",
    "        f'$\\\\tilde{{m}}=({m[min_i]}\\pm{m[1]-m[0]})$; $\\\\tilde{{r}}=({r[min_j]}\\pm{r[1]-r[0]})$; '\n",
    "        f'<br>$\\\\beta^*=({β:.3f}\\pm{np.ceil(δβ*1000)/1000:.3f})$'\n",
    "        f'<br> Deviation [%] : ' + ', '.join([str(round(e,3)) for e in pct_deviation(α[min_i,min_j], f)[1:]])\n",
    "    )"
   ]
  },
  {
   "cell_type": "code",
   "execution_count": 95,
   "metadata": {},
   "outputs": [
    {
     "data": {
      "image/png": "[encoded data removed]",
      "text/plain": [
       "<Figure size 288x288 with 1 Axes>"
      ]
     },
     "metadata": {
      "needs_background": "light"
     },
     "output_type": "display_data"
    },
    {
     "data": {
      "text/html": [
       "$\\tilde{m}=(0.42\\pm0.01)$; $\\tilde{r}=(0.05\\pm0.001)$; <br>$\\beta^*=(0.941\\pm0.001)$<br> Deviation [%] : -0.027, 0.067"
      ],
      "text/plain": [
       "<IPython.core.display.HTML object>"
      ]
     },
     "execution_count": 95,
     "metadata": {},
     "output_type": "execute_result"
    }
   ],
   "source": [
    "# custom probe\n",
    "f = np.array([3494, 27350, 78960])\n",
    "characterize(f, α, m, r)"
   ]
  },
  {
   "cell_type": "code",
   "execution_count": 104,
   "metadata": {},
   "outputs": [
    {
     "data": {
      "image/png": "[encoded data removed]",
      "text/plain": [
       "<Figure size 288x288 with 1 Axes>"
      ]
     },
     "metadata": {
      "needs_background": "light"
     },
     "output_type": "display_data"
    },
    {
     "data": {
      "text/html": [
       "$\\tilde{m}=(0.34\\pm0.01)$; $\\tilde{r}=(0.032\\pm0.001)$; <br>$\\beta^*=(0.930\\pm0.002)$<br> Deviation [%] : 0.05, -0.004"
      ],
      "text/plain": [
       "<IPython.core.display.HTML object>"
      ]
     },
     "execution_count": 104,
     "metadata": {},
     "output_type": "execute_result"
    }
   ],
   "source": [
    "# Functionalized AFM probes for force spectroscopy: eigenmode shapes and stiffness \n",
    "# calibration through thermal noise measurements (2013) J. Laurent\n",
    "f = np.array([10974, 83050, 246380])\n",
    "characterize(f, α, m, r)"
   ]
  },
  {
   "cell_type": "markdown",
   "metadata": {},
   "source": [
    "Paper estimates $\\tilde{m}=0.35$ and $\\tilde{r}=0.3$ having deviations 0.4%, -0.5%."
   ]
  }
 ],
 "metadata": {
  "kernelspec": {
   "display_name": "Python 3",
   "language": "python",
   "name": "python3"
  },
  "language_info": {
   "codemirror_mode": {
    "name": "ipython",
    "version": 3
   },
   "file_extension": ".py",
   "mimetype": "text/x-python",
   "name": "python",
   "nbconvert_exporter": "python",
   "pygments_lexer": "ipython3",
   "version": "3.8.3"
  }
 },
 "nbformat": 4,
 "nbformat_minor": 4
}
